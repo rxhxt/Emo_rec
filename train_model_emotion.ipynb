{
  "nbformat": 4,
  "nbformat_minor": 0,
  "metadata": {
    "colab": {
      "name": "train_model_emotion.ipynb",
      "provenance": [],
      "collapsed_sections": [
        "qiwjne0bDaoN",
        "WKlGXunVDfMQ",
        "oNvS1tkmF6DL"
      ]
    },
    "kernelspec": {
      "name": "python3",
      "display_name": "Python 3"
    },
    "accelerator": "GPU"
  },
  "cells": [
    {
      "cell_type": "markdown",
      "metadata": {
        "id": "qiwjne0bDaoN",
        "colab_type": "text"
      },
      "source": [
        "#Imports\n"
      ]
    },
    {
      "cell_type": "code",
      "metadata": {
        "id": "ZjtUJjCX6FX4",
        "colab_type": "code",
        "outputId": "5174b1fe-7b90-40fc-ad3c-41d2297408bc",
        "colab": {
          "base_uri": "https://localhost:8080/",
          "height": 34
        }
      },
      "source": [
        "import pandas as pd\n",
        "import numpy as np\n",
        "import keras\n",
        "from keras.utils.np_utils import to_categorical\n",
        "from keras.layers import Convolution2D, Activation, BatchNormalization, MaxPooling2D, Dropout, Dense, Flatten, AveragePooling2D\n",
        "from keras.models import Sequential\n",
        "from keras.preprocessing.image import ImageDataGenerator\n",
        "from keras import backend as K\n",
        "from keras.models import load_model\n",
        "import tensorflow as tf\n",
        "from google.colab import drive"
      ],
      "execution_count": 0,
      "outputs": [
        {
          "output_type": "stream",
          "text": [
            "Using TensorFlow backend.\n"
          ],
          "name": "stderr"
        }
      ]
    },
    {
      "cell_type": "markdown",
      "metadata": {
        "id": "WKlGXunVDfMQ",
        "colab_type": "text"
      },
      "source": [
        "#Getting dataset from my drive"
      ]
    },
    {
      "cell_type": "code",
      "metadata": {
        "id": "-7BANYUv-AIn",
        "colab_type": "code",
        "outputId": "dc3b9560-6dcc-4693-a91d-6defb6aa1317",
        "colab": {
          "base_uri": "https://localhost:8080/",
          "height": 34
        }
      },
      "source": [
        "drive.mount('/content/gdrive')"
      ],
      "execution_count": 0,
      "outputs": [
        {
          "output_type": "stream",
          "text": [
            "Mounted at /content/gdrive\n"
          ],
          "name": "stdout"
        }
      ]
    },
    {
      "cell_type": "code",
      "metadata": {
        "id": "fuVfuO9YGLfz",
        "colab_type": "code",
        "outputId": "f888c7d7-ac3d-4375-e7af-20acc27db122",
        "colab": {
          "base_uri": "https://localhost:8080/",
          "height": 34
        }
      },
      "source": [
        "cd gdrive"
      ],
      "execution_count": 0,
      "outputs": [
        {
          "output_type": "stream",
          "text": [
            "/content/gdrive\n"
          ],
          "name": "stdout"
        }
      ]
    },
    {
      "cell_type": "code",
      "metadata": {
        "id": "YGp2TqIpGT-L",
        "colab_type": "code",
        "outputId": "d00433d0-c406-43c2-e01d-d3db9be44127",
        "colab": {
          "base_uri": "https://localhost:8080/",
          "height": 34
        }
      },
      "source": [
        "cd My Drive"
      ],
      "execution_count": 0,
      "outputs": [
        {
          "output_type": "stream",
          "text": [
            "/content/gdrive/My Drive\n"
          ],
          "name": "stdout"
        }
      ]
    },
    {
      "cell_type": "code",
      "metadata": {
        "id": "6ORP1hnUGXt8",
        "colab_type": "code",
        "outputId": "24caa7cb-0f41-40f3-87cd-6cfd6d9c9f30",
        "colab": {
          "base_uri": "https://localhost:8080/",
          "height": 1000
        }
      },
      "source": [
        "ls"
      ],
      "execution_count": 0,
      "outputs": [
        {
          "output_type": "stream",
          "text": [
            " 10308296_1850492438579598_470283656400563920_n.jpg\n",
            " 1515074182688366687413.jpg\n",
            "'1515074182688366687413 - rohit nagotkar.jpg'\n",
            " 52138\n",
            " \u001b[0m\u001b[01;34mAbstract_Code_Diggers\u001b[0m/\n",
            " asdf.pdf\n",
            " athena.png\n",
            "'Attendance CA.gsheet'\n",
            " Attendance.gsheet\n",
            " \u001b[01;34mBooks\u001b[0m/\n",
            " bot.gdoc\n",
            " builders.rohit.gsheet\n",
            " call.docx\n",
            "'Class notes.gdoc'\n",
            " \u001b[01;34mClassroom\u001b[0m/\n",
            "\u001b[01;34m'Colab Notebooks'\u001b[0m/\n",
            "'Colleges and schools.gsheet'\n",
            "'Contacts from whatsapp.xlsx'\n",
            "'Copy of Marina · SlidesCarnival.gslides'\n",
            " \u001b[01;34mcretronix2\u001b[0m/\n",
            " data.csv\n",
            " Debate.gdoc\n",
            "'Delegate Agreement.pdf'\n",
            "'Document from Rohit'\n",
            " \u001b[01;34mdrawings\u001b[0m/\n",
            "'Electric nose.docx'\n",
            "'Electric nose.gdoc'\n",
            " EMAIL-IDs.gsheet\n",
            " exp_1.m\n",
            " fer2013.csv\n",
            " fill.xlsx\n",
            "\u001b[01;34m'Google Photos'\u001b[0m/\n",
            "'How to get started with Drive.pdf'\n",
            " IMG-20170913-WA0005.jpg\n",
            "'Imogen · SlidesCarnival.gslides'\n",
            " interview.xlsx\n",
            " KRIEG.gdoc\n",
            "'Lalit GA-1.JPG'\n",
            "'Lce .gdoc'\n",
            "'LIQUID CRYSTALLINE ELASTOMERS.gdoc'\n",
            "'Manipal Hackathon.gdoc'\n",
            "'mech, civil, electrical and biotech.gslides'\n",
            " Model.01-0.2053.hdf5\n",
            " Model.01-0.2513.hdf5\n",
            " Model.01-0.2547.hdf5\n",
            " Model.01-0.3380.hdf5\n",
            " Model.02-0.2602.hdf5\n",
            " Model.02-0.3644.hdf5\n",
            " Model.02-0.4121.hdf5\n",
            " Model.02-0.4308.hdf5\n",
            " Model.03-0.2973.hdf5\n",
            " Model.03-0.3929.hdf5\n",
            " Model.03-0.4391.hdf5\n",
            " Model.03-0.4650.hdf5\n",
            " Model.03-0.5015.hdf5\n",
            " Model.04-0.4182.hdf5\n",
            " Model.04-0.4191.hdf5\n",
            " Model.04-0.4556.hdf5\n",
            " Model.04-0.4781.hdf5\n",
            " Model.04-0.5040.hdf5\n",
            " Model.05-0.4138.hdf5\n",
            " Model.05-0.4160.hdf5\n",
            " Model.05-0.4695.hdf5\n",
            " Model.05-0.5032.hdf5\n",
            " Model.05-0.5177.hdf5\n",
            " Model.06-0.4352.hdf5\n",
            " Model.06-0.4965.hdf5\n",
            " Model.06-0.5079.hdf5\n",
            " Model.06-0.5199.hdf5\n",
            " Model.06-0.5681.hdf5\n",
            " Model.07-0.4778.hdf5\n",
            " Model.07-0.5065.hdf5\n",
            " Model.07-0.5216.hdf5\n",
            " Model.07-0.5294.hdf5\n",
            " Model.07-0.5534.hdf5\n",
            " Model.08-0.4152.hdf5\n",
            " Model.08-0.5319.hdf5\n",
            " Model.08-0.5322.hdf5\n",
            " Model.08-0.5464.hdf5\n",
            " Model.08-0.5829.hdf5\n",
            " Model.09-0.4996.hdf5\n",
            " Model.09-0.5364.hdf5\n",
            " Model.09-0.5506.hdf5\n",
            " Model.09-0.5522.hdf5\n",
            " Model.09-0.5823.hdf5\n",
            " Model.10-0.5065.hdf5\n",
            " Model.10-0.5411.hdf5\n",
            " Model.10-0.5662.hdf5\n",
            " Model.10-0.5712.hdf5\n",
            " Model.10-0.6063.hdf5\n",
            " Model.11-0.5183.hdf5\n",
            " Model.11-0.5528.hdf5\n",
            " Model.11-0.5575.hdf5\n",
            " Model.11-0.5648.hdf5\n",
            " Model.11-0.5684.hdf5\n",
            " Model.12-0.5143.hdf5\n",
            " Model.12-0.5378.hdf5\n",
            " Model.12-0.5453.hdf5\n",
            " Model.12-0.5567.hdf5\n",
            " Model.12-0.5991.hdf5\n",
            " Model.13-0.5227.hdf5\n",
            " Model.13-0.5695.hdf5\n",
            " Model.13-0.5829.hdf5\n",
            " Model.13-0.5868.hdf5\n",
            " Model.13-0.6105.hdf5\n",
            " Model.14-0.5383.hdf5\n",
            " Model.14-0.5698.hdf5\n",
            " Model.14-0.5762.hdf5\n",
            " Model.14-0.5815.hdf5\n",
            " Model.14-0.6038.hdf5\n",
            " Model.15-0.4987.hdf5\n",
            " Model.15-0.5503.hdf5\n",
            " Model.15-0.5653.hdf5\n",
            " Model.15-0.5843.hdf5\n",
            " Model.15-0.5918.hdf5\n",
            " Model.16-0.5118.hdf5\n",
            " Model.16-0.5461.hdf5\n",
            " Model.16-0.5550.hdf5\n",
            " Model.16-0.5887.hdf5\n",
            " Model.16-0.5918.hdf5\n",
            " Model.17-0.5642.hdf5\n",
            " Model.17-0.5857.hdf5\n",
            " Model.17-0.5871.hdf5\n",
            " Model.17-0.5879.hdf5\n",
            " Model.17-0.6018.hdf5\n",
            " Model.18-0.5656.hdf5\n",
            " Model.18-0.5712.hdf5\n",
            " Model.18-0.5851.hdf5\n",
            " Model.18-0.5940.hdf5\n",
            " Model.18-0.5949.hdf5\n",
            " Model.19-0.5548.hdf5\n",
            " Model.19-0.5637.hdf5\n",
            " Model.19-0.5726.hdf5\n",
            " Model.19-0.6024.hdf5\n",
            " Model.19-0.6275.hdf5\n",
            " Model.20-0.5595.hdf5\n",
            " Model.20-0.5815.hdf5\n",
            " Model.20-0.5924.hdf5\n",
            " Model.20-0.5952.hdf5\n",
            " Model.20-0.6264.hdf5\n",
            " Model.21-0.5715.hdf5\n",
            " Model.21-0.5949.hdf5\n",
            " Model.21-0.6063.hdf5\n",
            " Model.21-0.6135.hdf5\n",
            " Model.21-0.6241.hdf5\n",
            " Model.22-0.5550.hdf5\n",
            " Model.22-0.5843.hdf5\n",
            " Model.22-0.6046.hdf5\n",
            " Model.22-0.6080.hdf5\n",
            " Model.22-0.6303.hdf5\n",
            " Model.23-0.5297.hdf5\n",
            " Model.23-0.5821.hdf5\n",
            " Model.23-0.5907.hdf5\n",
            " Model.23-0.6169.hdf5\n",
            " Model.23-0.6305.hdf5\n",
            " Model.24-0.5545.hdf5\n",
            " Model.24-0.5790.hdf5\n",
            " Model.24-0.5887.hdf5\n",
            " Model.24-0.6085.hdf5\n",
            " Model.24-0.6230.hdf5\n",
            " Model.25-0.5252.hdf5\n",
            " Model.25-0.5286.hdf5\n",
            " Model.25-0.5899.hdf5\n",
            " Model.25-0.6013.hdf5\n",
            " Model.25-0.6230.hdf5\n",
            " Model.26-0.6280.hdf5\n",
            " Model.27-0.6266.hdf5\n",
            " Model.28-0.6239.hdf5\n",
            " Model.29-0.6322.hdf5\n",
            " Model.30-0.6247.hdf5\n",
            " model.json\n",
            "'Modern techniques in ballistic analysis.docx'\n",
            "'mun budget .gsheet'\n",
            "\u001b[01;34m'my projects'\u001b[0m/\n",
            "'NAGOTKAR AJAYKUMARM_CA890.pdf'\n",
            "'original budget 2020.gdoc'\n",
            "'P & C 22.pdf'\n",
            " \u001b[01;34mPics\u001b[0m/\n",
            "\u001b[01;34m\"PICTMUN'19\"\u001b[0m/\n",
            "'pictmun slabs.gslides'\n",
            " PING.gdoc\n",
            "'Position paper- chandri.gdoc'\n",
            "'Position Paper-SMUN.gdoc'\n",
            "'postion paper.gdoc'\n",
            " QUIZ.gdoc\n",
            " research-veritas.gdoc\n",
            " Resume.1.gdoc\n",
            " Resume.gdoc\n",
            " rishi.zip\n",
            " Rohit_Nagotkar.pdf\n",
            " Rohit_nagotkar_PICT.pdf\n",
            "'Save now on Pinterest!'\n",
            "'Save now on Pinterest! (1)'\n",
            "'Science project (1).gslides'\n",
            "'Science project.gslides'\n",
            "'Science project.pptx'\n",
            " Screenshot_2019-03-01-22-47-13-812_com.whatsapp.png\n",
            " SecondCoffeeTableSession_Report.xlsx\n",
            "\u001b[01;34m'SE sem2'\u001b[0m/\n",
            "'Sinhgad Karandak | 2016.pdf'\n",
            " Slabs-1.pptx.gslides\n",
            "'Smallest 3D Transistor.gdoc'\n",
            " \u001b[01;34msome_directory\u001b[0m/\n",
            " \u001b[01;34msome_directory_new\u001b[0m/\n",
            "'Sponsorship Task Sheet.xlsx'\n",
            "'State Common Entrance Test Cell, Government of Maharashtra.htm'\n",
            "'STORY WRITING.pptx'\n",
            "'Targeted drug delivery.gdoc'\n",
            "'Team roster CA.gsheet'\n",
            "'Team roster.gsheet'\n",
            "'Team roster OC.gsheet'\n",
            "'TECHNICAL PRES..gdoc'\n",
            "'tedx partner.gsheet'\n",
            " test.gdoc\n",
            " \u001b[01;34mtests\u001b[0m/\n",
            "'trimurti develpoers w.d.dwg'\n",
            "'Trivias (1).docx'\n",
            " Trivias.docx\n",
            " Trivias.gdoc\n",
            "'Untitled document.gdoc'\n",
            "'veritas mun.gdoc'\n",
            " webdev.gdoc\n",
            " weights223.h5\n",
            " yolo.py.gdoc\n",
            " Y-pred.csv\n",
            " Y-true.csv\n"
          ],
          "name": "stdout"
        }
      ]
    },
    {
      "cell_type": "code",
      "metadata": {
        "id": "6Q_v5x0Z6xg8",
        "colab_type": "code",
        "colab": {}
      },
      "source": [
        "batch_size = 32\n",
        "num_epochs = 25"
      ],
      "execution_count": 0,
      "outputs": []
    },
    {
      "cell_type": "markdown",
      "metadata": {
        "id": "oNvS1tkmF6DL",
        "colab_type": "text"
      },
      "source": [
        "#obtain pixel values from dataset"
      ]
    },
    {
      "cell_type": "code",
      "metadata": {
        "id": "R2oicsfJ69IS",
        "colab_type": "code",
        "colab": {}
      },
      "source": [
        "def pandas_vector_to_list(pandas_df):\n",
        "    py_list = [item[0] for item in pandas_df.values.tolist()]\n",
        "    return py_list\n",
        "\n",
        "def process_pixels(pixels, img_size=48):\n",
        "    pixels_as_list = pandas_vector_to_list(pixels)\n",
        "    np_image_array = []\n",
        "    for index, item in enumerate(pixels_as_list):\n",
        "        data = np.zeros((img_size, img_size), dtype=np.uint8)\n",
        "        pixel_data = item.split()\n",
        "        for i in range(0, img_size):\n",
        "            pixel_index = i * img_size\n",
        "            data[i] = pixel_data[pixel_index:pixel_index + img_size]\n",
        "        np_image_array.append(np.array(data))\n",
        "    np_image_array = np.array(np_image_array)\n",
        "    np_image_array = np_image_array.astype('float32') / 255.0\n",
        "    return np_image_array\n",
        "\n"
      ],
      "execution_count": 0,
      "outputs": []
    },
    {
      "cell_type": "markdown",
      "metadata": {
        "id": "NPyLb74LGDhG",
        "colab_type": "text"
      },
      "source": [
        "#Read dataset"
      ]
    },
    {
      "cell_type": "code",
      "metadata": {
        "id": "-6yjOs7S7B-6",
        "colab_type": "code",
        "outputId": "afa6cd68-cebb-4d25-c221-415e19e86af9",
        "colab": {
          "base_uri": "https://localhost:8080/",
          "height": 170
        }
      },
      "source": [
        "width = height = 48\n",
        "depth = 1\n",
        "data = pd.read_csv('fer2013.csv')\n",
        "print(data.info())"
      ],
      "execution_count": 0,
      "outputs": [
        {
          "output_type": "stream",
          "text": [
            "<class 'pandas.core.frame.DataFrame'>\n",
            "RangeIndex: 35887 entries, 0 to 35886\n",
            "Data columns (total 3 columns):\n",
            "emotion    35887 non-null int64\n",
            "pixels     35887 non-null object\n",
            "Usage      35887 non-null object\n",
            "dtypes: int64(1), object(2)\n",
            "memory usage: 841.2+ KB\n",
            "None\n"
          ],
          "name": "stdout"
        }
      ]
    },
    {
      "cell_type": "markdown",
      "metadata": {
        "id": "XADoPoQsGgM7",
        "colab_type": "text"
      },
      "source": [
        "#Split into train test and validation"
      ]
    },
    {
      "cell_type": "code",
      "metadata": {
        "id": "wMIWEP947E-v",
        "colab_type": "code",
        "outputId": "5ceed2aa-ee46-490c-a371-c1dd60dba76a",
        "colab": {
          "base_uri": "https://localhost:8080/",
          "height": 170
        }
      },
      "source": [
        "train_set = data[(data.Usage == 'Training')]\n",
        "validation_set = data[(data.Usage == 'PublicTest')]\n",
        "test_set = data[(data.Usage == 'PrivateTest')]\n",
        "\n",
        "print('Samples per emotion:')\n",
        "print(data.emotion.value_counts())\n"
      ],
      "execution_count": 0,
      "outputs": [
        {
          "output_type": "stream",
          "text": [
            "Samples per emotion:\n",
            "3    8989\n",
            "6    6198\n",
            "4    6077\n",
            "2    5121\n",
            "0    4953\n",
            "5    4002\n",
            "1     547\n",
            "Name: emotion, dtype: int64\n"
          ],
          "name": "stdout"
        }
      ]
    },
    {
      "cell_type": "markdown",
      "metadata": {
        "id": "ONbBoZ15GpCx",
        "colab_type": "text"
      },
      "source": [
        "#final input to neural net"
      ]
    },
    {
      "cell_type": "code",
      "metadata": {
        "id": "peL1yJB37K9b",
        "colab_type": "code",
        "outputId": "b6be6bef-b63f-4d9a-c8b4-117bd87d0857",
        "colab": {
          "base_uri": "https://localhost:8080/",
          "height": 102
        }
      },
      "source": [
        "X_train = process_pixels(train_set[['pixels']])\n",
        "X_test = process_pixels(test_set[['pixels']])\n",
        "X_validation = process_pixels(validation_set[['pixels']])\n",
        "print(test_set[10:11])\n",
        "num_train = X_train.shape[0]\n",
        "num_validation = X_validation.shape[0]\n",
        "num_test = X_test.shape[0]\n",
        "\n",
        "X_train = X_train.reshape(num_train, width, height, depth)\n",
        "X_validation = X_validation.reshape(num_test, width, height, depth)\n",
        "X_test = X_test.reshape(num_test, width, height, depth)\n",
        "\n",
        "print('Training: ',X_train.shape)\n",
        "print('Validation: ',X_validation.shape)\n",
        "print('Test: ',X_test.shape)\n"
      ],
      "execution_count": 0,
      "outputs": [
        {
          "output_type": "stream",
          "text": [
            "       emotion                                             pixels        Usage\n",
            "32308        5  255 255 255 252 255 212 122 107 137 178 196 21...  PrivateTest\n",
            "Training:  (28709, 48, 48, 1)\n",
            "Validation:  (3589, 48, 48, 1)\n",
            "Test:  (3589, 48, 48, 1)\n"
          ],
          "name": "stdout"
        }
      ]
    },
    {
      "cell_type": "code",
      "metadata": {
        "id": "Jb0Df374AlHb",
        "colab_type": "code",
        "outputId": "0f630790-4ef6-4767-dbd7-e2919472782f",
        "colab": {
          "base_uri": "https://localhost:8080/",
          "height": 68
        }
      },
      "source": [
        "y_train = to_categorical(train_set.emotion, 7)\n",
        "y_validation = to_categorical(validation_set.emotion, 7)\n",
        "y_test = to_categorical(test_set.emotion, 7)\n",
        "print('Training: ',y_train.shape)\n",
        "print('Validation: ',y_validation.shape)\n",
        "print('Test: ',y_test.shape)"
      ],
      "execution_count": 0,
      "outputs": [
        {
          "output_type": "stream",
          "text": [
            "Training:  (28709, 7)\n",
            "Validation:  (3589, 7)\n",
            "Test:  (3589, 7)\n"
          ],
          "name": "stdout"
        }
      ]
    },
    {
      "cell_type": "markdown",
      "metadata": {
        "id": "IGiKpICyHBuk",
        "colab_type": "text"
      },
      "source": [
        "#Model"
      ]
    },
    {
      "cell_type": "code",
      "metadata": {
        "id": "OgliFrfvAryJ",
        "colab_type": "code",
        "outputId": "d6e2dc95-28cc-4413-f9a8-ab87478a2641",
        "colab": {
          "base_uri": "https://localhost:8080/",
          "height": 1000
        }
      },
      "source": [
        "model = Sequential()\n",
        "#1\n",
        "model.add(Convolution2D(filters = 64,kernel_size= 3, activation = 'relu', padding='same', input_shape=(48,48,1)))\n",
        "model.add(BatchNormalization())\n",
        "model.add(MaxPooling2D(pool_size=(2, 2), strides=None, padding='same'))\n",
        "model.add(Dropout(0.3))\n",
        "#2\n",
        "model.add(Convolution2D(filters = 128,kernel_size= 3,activation = 'relu', padding='same'))\n",
        "model.add(BatchNormalization())\n",
        "model.add(MaxPooling2D(pool_size=(2, 2), strides=None, padding='same'))\n",
        "model.add(Dropout(0.3))\n",
        "#3\n",
        "model.add(Convolution2D(filters = 128,kernel_size= 3,activation = 'relu', padding='same'))\n",
        "model.add(BatchNormalization())\n",
        "model.add(MaxPooling2D(pool_size=(2, 2), strides=None, padding='same'))\n",
        "model.add(Dropout(0.3))\n",
        "#4\n",
        "model.add(Convolution2D(filters = 256,kernel_size = 3, padding='same',activation = 'relu'))\n",
        "model.add(BatchNormalization())\n",
        "model.add(MaxPooling2D(pool_size=(2, 2), strides=None, padding='same'))\n",
        "model.add(Dropout(0.3))\n",
        "#5\n",
        "model.add(Convolution2D(filters = 256,kernel_size = 3, padding='same',activation = 'relu'))\n",
        "model.add(BatchNormalization())\n",
        "model.add(MaxPooling2D(pool_size=(2, 2), strides=None, padding='same'))\n",
        "model.add(Dropout(0.3))\n",
        "#6\n",
        "model.add(Convolution2D(filters = 512, kernel_size = 3,activation = 'relu', padding='same'))\n",
        "model.add(Convolution2D(512, (1, 3), padding='same'))\n",
        "model.add(BatchNormalization())\n",
        "model.add(MaxPooling2D(pool_size=(2, 2), strides=None, padding='same'))\n",
        "model.add(Dropout(0.3))\n",
        "#7\n",
        "model.add(Convolution2D(filters = 512, kernel_size = 3,activation = 'relu', padding='same'))\n",
        "model.add(Convolution2D(512, (1, 3), padding='same'))\n",
        "model.add(BatchNormalization())\n",
        "model.add(MaxPooling2D(pool_size=(2, 2), strides=None, padding='same'))\n",
        "model.add(Dropout(0.3))\n",
        "#8\n",
        "model.add(Flatten())\n",
        "#9\n",
        "model.add(Dense(7))\n",
        "model.add(Activation('softmax'))\n",
        "print(model.summary())"
      ],
      "execution_count": 0,
      "outputs": [
        {
          "output_type": "stream",
          "text": [
            "WARNING:tensorflow:From /usr/local/lib/python3.6/dist-packages/keras/backend/tensorflow_backend.py:66: The name tf.get_default_graph is deprecated. Please use tf.compat.v1.get_default_graph instead.\n",
            "\n",
            "WARNING:tensorflow:From /usr/local/lib/python3.6/dist-packages/keras/backend/tensorflow_backend.py:541: The name tf.placeholder is deprecated. Please use tf.compat.v1.placeholder instead.\n",
            "\n",
            "WARNING:tensorflow:From /usr/local/lib/python3.6/dist-packages/keras/backend/tensorflow_backend.py:4432: The name tf.random_uniform is deprecated. Please use tf.random.uniform instead.\n",
            "\n",
            "WARNING:tensorflow:From /usr/local/lib/python3.6/dist-packages/keras/backend/tensorflow_backend.py:190: The name tf.get_default_session is deprecated. Please use tf.compat.v1.get_default_session instead.\n",
            "\n",
            "WARNING:tensorflow:From /usr/local/lib/python3.6/dist-packages/keras/backend/tensorflow_backend.py:197: The name tf.ConfigProto is deprecated. Please use tf.compat.v1.ConfigProto instead.\n",
            "\n",
            "WARNING:tensorflow:From /usr/local/lib/python3.6/dist-packages/keras/backend/tensorflow_backend.py:2041: The name tf.nn.fused_batch_norm is deprecated. Please use tf.compat.v1.nn.fused_batch_norm instead.\n",
            "\n",
            "WARNING:tensorflow:From /usr/local/lib/python3.6/dist-packages/keras/backend/tensorflow_backend.py:4267: The name tf.nn.max_pool is deprecated. Please use tf.nn.max_pool2d instead.\n",
            "\n",
            "WARNING:tensorflow:From /usr/local/lib/python3.6/dist-packages/keras/backend/tensorflow_backend.py:3733: calling dropout (from tensorflow.python.ops.nn_ops) with keep_prob is deprecated and will be removed in a future version.\n",
            "Instructions for updating:\n",
            "Please use `rate` instead of `keep_prob`. Rate should be set to `rate = 1 - keep_prob`.\n",
            "Model: \"sequential_1\"\n",
            "_________________________________________________________________\n",
            "Layer (type)                 Output Shape              Param #   \n",
            "=================================================================\n",
            "conv2d_1 (Conv2D)            (None, 48, 48, 64)        640       \n",
            "_________________________________________________________________\n",
            "batch_normalization_1 (Batch (None, 48, 48, 64)        256       \n",
            "_________________________________________________________________\n",
            "max_pooling2d_1 (MaxPooling2 (None, 24, 24, 64)        0         \n",
            "_________________________________________________________________\n",
            "dropout_1 (Dropout)          (None, 24, 24, 64)        0         \n",
            "_________________________________________________________________\n",
            "conv2d_2 (Conv2D)            (None, 24, 24, 128)       73856     \n",
            "_________________________________________________________________\n",
            "batch_normalization_2 (Batch (None, 24, 24, 128)       512       \n",
            "_________________________________________________________________\n",
            "max_pooling2d_2 (MaxPooling2 (None, 12, 12, 128)       0         \n",
            "_________________________________________________________________\n",
            "dropout_2 (Dropout)          (None, 12, 12, 128)       0         \n",
            "_________________________________________________________________\n",
            "conv2d_3 (Conv2D)            (None, 12, 12, 128)       147584    \n",
            "_________________________________________________________________\n",
            "batch_normalization_3 (Batch (None, 12, 12, 128)       512       \n",
            "_________________________________________________________________\n",
            "max_pooling2d_3 (MaxPooling2 (None, 6, 6, 128)         0         \n",
            "_________________________________________________________________\n",
            "dropout_3 (Dropout)          (None, 6, 6, 128)         0         \n",
            "_________________________________________________________________\n",
            "conv2d_4 (Conv2D)            (None, 6, 6, 256)         295168    \n",
            "_________________________________________________________________\n",
            "batch_normalization_4 (Batch (None, 6, 6, 256)         1024      \n",
            "_________________________________________________________________\n",
            "max_pooling2d_4 (MaxPooling2 (None, 3, 3, 256)         0         \n",
            "_________________________________________________________________\n",
            "dropout_4 (Dropout)          (None, 3, 3, 256)         0         \n",
            "_________________________________________________________________\n",
            "conv2d_5 (Conv2D)            (None, 3, 3, 256)         590080    \n",
            "_________________________________________________________________\n",
            "batch_normalization_5 (Batch (None, 3, 3, 256)         1024      \n",
            "_________________________________________________________________\n",
            "max_pooling2d_5 (MaxPooling2 (None, 2, 2, 256)         0         \n",
            "_________________________________________________________________\n",
            "dropout_5 (Dropout)          (None, 2, 2, 256)         0         \n",
            "_________________________________________________________________\n",
            "conv2d_6 (Conv2D)            (None, 2, 2, 512)         1180160   \n",
            "_________________________________________________________________\n",
            "conv2d_7 (Conv2D)            (None, 2, 2, 512)         786944    \n",
            "_________________________________________________________________\n",
            "batch_normalization_6 (Batch (None, 2, 2, 512)         2048      \n",
            "_________________________________________________________________\n",
            "max_pooling2d_6 (MaxPooling2 (None, 1, 1, 512)         0         \n",
            "_________________________________________________________________\n",
            "dropout_6 (Dropout)          (None, 1, 1, 512)         0         \n",
            "_________________________________________________________________\n",
            "conv2d_8 (Conv2D)            (None, 1, 1, 512)         2359808   \n",
            "_________________________________________________________________\n",
            "conv2d_9 (Conv2D)            (None, 1, 1, 512)         786944    \n",
            "_________________________________________________________________\n",
            "batch_normalization_7 (Batch (None, 1, 1, 512)         2048      \n",
            "_________________________________________________________________\n",
            "max_pooling2d_7 (MaxPooling2 (None, 1, 1, 512)         0         \n",
            "_________________________________________________________________\n",
            "dropout_7 (Dropout)          (None, 1, 1, 512)         0         \n",
            "_________________________________________________________________\n",
            "flatten_1 (Flatten)          (None, 512)               0         \n",
            "_________________________________________________________________\n",
            "dense_1 (Dense)              (None, 7)                 3591      \n",
            "_________________________________________________________________\n",
            "activation_1 (Activation)    (None, 7)                 0         \n",
            "=================================================================\n",
            "Total params: 6,232,199\n",
            "Trainable params: 6,228,487\n",
            "Non-trainable params: 3,712\n",
            "_________________________________________________________________\n",
            "None\n"
          ],
          "name": "stdout"
        }
      ]
    },
    {
      "cell_type": "markdown",
      "metadata": {
        "id": "kWsd9fwNHtXa",
        "colab_type": "text"
      },
      "source": [
        "#image augmentation"
      ]
    },
    {
      "cell_type": "code",
      "metadata": {
        "id": "-gC7RlR4AvS7",
        "colab_type": "code",
        "outputId": "66200a97-b11c-49ac-a265-3805905006d4",
        "colab": {
          "base_uri": "https://localhost:8080/",
          "height": 71
        }
      },
      "source": [
        "datagen = ImageDataGenerator(featurewise_center=False,samplewise_center=False,featurewise_std_normalization=False,\n",
        "                             samplewise_std_normalization=False,zca_whitening=False,rotation_range=0,\n",
        "                             width_shift_range=0.0,height_shift_range=0.0,horizontal_flip=True,\n",
        "                             vertical_flip=False,)\n",
        "\n",
        "datagen.fit(X_train)\n",
        "datagen.fit(X_validation)\n",
        "model.compile(loss='categorical_crossentropy',optimizer= 'adam' ,metrics=['acc'])"
      ],
      "execution_count": 0,
      "outputs": [
        {
          "output_type": "stream",
          "text": [
            "WARNING:tensorflow:From /usr/local/lib/python3.6/dist-packages/keras/optimizers.py:793: The name tf.train.Optimizer is deprecated. Please use tf.compat.v1.train.Optimizer instead.\n",
            "\n"
          ],
          "name": "stdout"
        }
      ]
    },
    {
      "cell_type": "code",
      "metadata": {
        "id": "ywarfhnIA1Bi",
        "colab_type": "code",
        "colab": {}
      },
      "source": [
        "train_flow = datagen.flow(X_train, y_train, batch_size=batch_size)\n",
        "validation_flow = datagen.flow(X_validation, y_validation)\n"
      ],
      "execution_count": 0,
      "outputs": []
    },
    {
      "cell_type": "markdown",
      "metadata": {
        "id": "4VSVxo0PHz_T",
        "colab_type": "text"
      },
      "source": [
        "#callbacks"
      ]
    },
    {
      "cell_type": "code",
      "metadata": {
        "id": "aiVRv9BuA5mF",
        "colab_type": "code",
        "colab": {}
      },
      "source": [
        "from keras.callbacks import ModelCheckpoint, EarlyStopping, ReduceLROnPlateau\n",
        "\n",
        "filepath='Model.{epoch:02d}-{val_acc:.4f}.hdf5'\n",
        "checkpointer = ModelCheckpoint(filepath, monitor='val_loss', verbose=1, save_best_only=False, mode='auto')\n",
        "reduce_lr = ReduceLROnPlateau(monitor='val_loss', factor=0.1, patience=10, verbose=0, mode='auto', min_delta=0.0001, cooldown=0, min_lr=0)\n",
        "early_stop = EarlyStopping(monitor='val_loss', min_delta=0, patience=0, verbose=0, mode='auto')\n"
      ],
      "execution_count": 0,
      "outputs": []
    },
    {
      "cell_type": "markdown",
      "metadata": {
        "id": "vOrCzoxDIbz8",
        "colab_type": "text"
      },
      "source": [
        "#Training the network"
      ]
    },
    {
      "cell_type": "code",
      "metadata": {
        "id": "CsY6dyn3A_TC",
        "colab_type": "code",
        "outputId": "614fefcc-cc48-4f62-f4b0-742c46e9c568",
        "colab": {
          "base_uri": "https://localhost:8080/",
          "height": 1000
        }
      },
      "source": [
        "history = model.fit_generator(train_flow,steps_per_epoch=(len(X_train) / batch_size),epochs=num_epochs,verbose=1,validation_data=validation_flow,validation_steps=len(X_validation) / batch_size,callbacks=[checkpointer, reduce_lr, checkpointer])\n",
        "print(\"break\")\n",
        "score = model.evaluate(X_test, y_test, steps=int(len(X_test) / batch_size))\n",
        "print('test loss: ', score[0])\n",
        "print('Test accuracy: ', score[1])"
      ],
      "execution_count": 0,
      "outputs": [
        {
          "output_type": "stream",
          "text": [
            "WARNING:tensorflow:From /usr/local/lib/python3.6/dist-packages/tensorflow/python/ops/math_grad.py:1250: add_dispatch_support.<locals>.wrapper (from tensorflow.python.ops.array_ops) is deprecated and will be removed in a future version.\n",
            "Instructions for updating:\n",
            "Use tf.where in 2.0, which has the same broadcast rule as np.where\n",
            "Epoch 1/25\n",
            "898/897 [==============================] - 60s 67ms/step - loss: 1.9991 - acc: 0.2413 - val_loss: 1.6709 - val_acc: 0.3274\n",
            "\n",
            "Epoch 00001: saving model to Model.01-0.3274.hdf5\n",
            "\n",
            "Epoch 00001: saving model to Model.01-0.3274.hdf5\n",
            "Epoch 2/25\n",
            "898/897 [==============================] - 57s 63ms/step - loss: 1.6280 - acc: 0.3819 - val_loss: 1.4600 - val_acc: 0.4452\n",
            "\n",
            "Epoch 00002: saving model to Model.02-0.4452.hdf5\n",
            "\n",
            "Epoch 00002: saving model to Model.02-0.4452.hdf5\n",
            "Epoch 3/25\n",
            "898/897 [==============================] - 57s 63ms/step - loss: 1.4455 - acc: 0.4526 - val_loss: 1.3705 - val_acc: 0.4837\n",
            "\n",
            "Epoch 00003: saving model to Model.03-0.4837.hdf5\n",
            "\n",
            "Epoch 00003: saving model to Model.03-0.4837.hdf5\n",
            "Epoch 4/25\n",
            "898/897 [==============================] - 56s 63ms/step - loss: 1.3607 - acc: 0.4865 - val_loss: 1.3844 - val_acc: 0.4617\n",
            "\n",
            "Epoch 00004: saving model to Model.04-0.4617.hdf5\n",
            "\n",
            "Epoch 00004: saving model to Model.04-0.4617.hdf5\n",
            "Epoch 5/25\n",
            "898/897 [==============================] - 57s 63ms/step - loss: 1.3137 - acc: 0.5046 - val_loss: 1.2364 - val_acc: 0.5333\n",
            "\n",
            "Epoch 00005: saving model to Model.05-0.5333.hdf5\n",
            "\n",
            "Epoch 00005: saving model to Model.05-0.5333.hdf5\n",
            "Epoch 6/25\n",
            "898/897 [==============================] - 57s 63ms/step - loss: 1.2533 - acc: 0.5287 - val_loss: 1.2374 - val_acc: 0.5272\n",
            "\n",
            "Epoch 00006: saving model to Model.06-0.5272.hdf5\n",
            "\n",
            "Epoch 00006: saving model to Model.06-0.5272.hdf5\n",
            "Epoch 7/25\n",
            "898/897 [==============================] - 57s 63ms/step - loss: 1.2222 - acc: 0.5404 - val_loss: 1.2044 - val_acc: 0.5389\n",
            "\n",
            "Epoch 00007: saving model to Model.07-0.5389.hdf5\n",
            "\n",
            "Epoch 00007: saving model to Model.07-0.5389.hdf5\n",
            "Epoch 8/25\n",
            "898/897 [==============================] - 57s 63ms/step - loss: 1.1936 - acc: 0.5535 - val_loss: 1.2239 - val_acc: 0.5319\n",
            "\n",
            "Epoch 00008: saving model to Model.08-0.5319.hdf5\n",
            "\n",
            "Epoch 00008: saving model to Model.08-0.5319.hdf5\n",
            "Epoch 9/25\n",
            "898/897 [==============================] - 57s 63ms/step - loss: 1.1642 - acc: 0.5634 - val_loss: 1.3791 - val_acc: 0.4876\n",
            "\n",
            "Epoch 00009: saving model to Model.09-0.4876.hdf5\n",
            "\n",
            "Epoch 00009: saving model to Model.09-0.4876.hdf5\n",
            "Epoch 10/25\n",
            "898/897 [==============================] - 56s 63ms/step - loss: 1.1307 - acc: 0.5745 - val_loss: 1.1935 - val_acc: 0.5305\n",
            "\n",
            "Epoch 00010: saving model to Model.10-0.5305.hdf5\n",
            "\n",
            "Epoch 00010: saving model to Model.10-0.5305.hdf5\n",
            "Epoch 11/25\n",
            "898/897 [==============================] - 57s 63ms/step - loss: 1.1101 - acc: 0.5839 - val_loss: 1.2325 - val_acc: 0.5369\n",
            "\n",
            "Epoch 00011: saving model to Model.11-0.5369.hdf5\n",
            "\n",
            "Epoch 00011: saving model to Model.11-0.5369.hdf5\n",
            "Epoch 12/25\n",
            "898/897 [==============================] - 57s 63ms/step - loss: 1.0836 - acc: 0.5946 - val_loss: 1.1313 - val_acc: 0.5717\n",
            "\n",
            "Epoch 00012: saving model to Model.12-0.5717.hdf5\n",
            "\n",
            "Epoch 00012: saving model to Model.12-0.5717.hdf5\n",
            "Epoch 13/25\n",
            "898/897 [==============================] - 57s 63ms/step - loss: 1.0682 - acc: 0.5996 - val_loss: 1.0637 - val_acc: 0.5985\n",
            "\n",
            "Epoch 00013: saving model to Model.13-0.5985.hdf5\n",
            "\n",
            "Epoch 00013: saving model to Model.13-0.5985.hdf5\n",
            "Epoch 14/25\n",
            "898/897 [==============================] - 56s 63ms/step - loss: 1.0458 - acc: 0.6077 - val_loss: 1.1617 - val_acc: 0.5754\n",
            "\n",
            "Epoch 00014: saving model to Model.14-0.5754.hdf5\n",
            "\n",
            "Epoch 00014: saving model to Model.14-0.5754.hdf5\n",
            "Epoch 15/25\n",
            "898/897 [==============================] - 57s 63ms/step - loss: 1.0293 - acc: 0.6159 - val_loss: 1.0678 - val_acc: 0.6052\n",
            "\n",
            "Epoch 00015: saving model to Model.15-0.6052.hdf5\n",
            "\n",
            "Epoch 00015: saving model to Model.15-0.6052.hdf5\n",
            "Epoch 16/25\n",
            "898/897 [==============================] - 56s 63ms/step - loss: 1.0101 - acc: 0.6235 - val_loss: 1.0260 - val_acc: 0.6163\n",
            "\n",
            "Epoch 00016: saving model to Model.16-0.6163.hdf5\n",
            "\n",
            "Epoch 00016: saving model to Model.16-0.6163.hdf5\n",
            "Epoch 17/25\n",
            "898/897 [==============================] - 57s 63ms/step - loss: 0.9925 - acc: 0.6296 - val_loss: 1.1506 - val_acc: 0.5720\n",
            "\n",
            "Epoch 00017: saving model to Model.17-0.5720.hdf5\n",
            "\n",
            "Epoch 00017: saving model to Model.17-0.5720.hdf5\n",
            "Epoch 18/25\n",
            "898/897 [==============================] - 56s 63ms/step - loss: 0.9829 - acc: 0.6362 - val_loss: 1.0803 - val_acc: 0.5913\n",
            "\n",
            "Epoch 00018: saving model to Model.18-0.5913.hdf5\n",
            "\n",
            "Epoch 00018: saving model to Model.18-0.5913.hdf5\n",
            "Epoch 19/25\n",
            "898/897 [==============================] - 57s 63ms/step - loss: 0.9711 - acc: 0.6387 - val_loss: 1.0484 - val_acc: 0.6094\n",
            "\n",
            "Epoch 00019: saving model to Model.19-0.6094.hdf5\n",
            "\n",
            "Epoch 00019: saving model to Model.19-0.6094.hdf5\n",
            "Epoch 20/25\n",
            "898/897 [==============================] - 57s 63ms/step - loss: 0.9493 - acc: 0.6482 - val_loss: 1.0282 - val_acc: 0.6197\n",
            "\n",
            "Epoch 00020: saving model to Model.20-0.6197.hdf5\n",
            "\n",
            "Epoch 00020: saving model to Model.20-0.6197.hdf5\n",
            "Epoch 21/25\n",
            "898/897 [==============================] - 57s 63ms/step - loss: 0.9396 - acc: 0.6517 - val_loss: 1.0389 - val_acc: 0.6099\n",
            "\n",
            "Epoch 00021: saving model to Model.21-0.6099.hdf5\n",
            "\n",
            "Epoch 00021: saving model to Model.21-0.6099.hdf5\n",
            "Epoch 22/25\n",
            "898/897 [==============================] - 56s 63ms/step - loss: 0.9209 - acc: 0.6591 - val_loss: 1.0057 - val_acc: 0.6247\n",
            "\n",
            "Epoch 00022: saving model to Model.22-0.6247.hdf5\n",
            "\n",
            "Epoch 00022: saving model to Model.22-0.6247.hdf5\n",
            "Epoch 23/25\n",
            "898/897 [==============================] - 57s 63ms/step - loss: 0.9094 - acc: 0.6636 - val_loss: 1.0368 - val_acc: 0.6127\n",
            "\n",
            "Epoch 00023: saving model to Model.23-0.6127.hdf5\n",
            "\n",
            "Epoch 00023: saving model to Model.23-0.6127.hdf5\n",
            "Epoch 24/25\n",
            "898/897 [==============================] - 57s 63ms/step - loss: 0.9026 - acc: 0.6654 - val_loss: 1.0349 - val_acc: 0.6239\n",
            "\n",
            "Epoch 00024: saving model to Model.24-0.6239.hdf5\n",
            "\n",
            "Epoch 00024: saving model to Model.24-0.6239.hdf5\n",
            "Epoch 25/25\n",
            "898/897 [==============================] - 57s 63ms/step - loss: 0.8912 - acc: 0.6686 - val_loss: 1.0819 - val_acc: 0.5988\n",
            "\n",
            "Epoch 00025: saving model to Model.25-0.5988.hdf5\n",
            "\n",
            "Epoch 00025: saving model to Model.25-0.5988.hdf5\n",
            "break\n",
            "112/112 [==============================] - 77s 685ms/step\n",
            "Evaluation loss:  1.0474416017532349\n",
            "Evaluation accuracy:  0.6157703995704651\n"
          ],
          "name": "stdout"
        }
      ]
    },
    {
      "cell_type": "code",
      "metadata": {
        "id": "y7-79tzEMilc",
        "colab_type": "code",
        "outputId": "4988f9f4-2902-4e55-a886-9f9d9887848a",
        "colab": {
          "base_uri": "https://localhost:8080/",
          "height": 51
        }
      },
      "source": [
        "score2 = model.evaluate(X_train, y_train,verbose = 0)\n",
        "print('train loss: ', score2[0])\n",
        "print('train accuracy: ', score2[1])"
      ],
      "execution_count": 0,
      "outputs": [
        {
          "output_type": "stream",
          "text": [
            "test loss:  0.7742659898942663\n",
            "Test accuracy:  0.7103695705200322\n"
          ],
          "name": "stdout"
        }
      ]
    },
    {
      "cell_type": "markdown",
      "metadata": {
        "id": "SynwPKCyIkki",
        "colab_type": "text"
      },
      "source": [
        "#print test values and save the model"
      ]
    },
    {
      "cell_type": "code",
      "metadata": {
        "id": "tm3M_ammBDiS",
        "colab_type": "code",
        "outputId": "90022656-c7da-4aa8-b61a-9b0c4bad1516",
        "colab": {
          "base_uri": "https://localhost:8080/",
          "height": 54
        }
      },
      "source": [
        "y_pred = model.predict_classes(X_test)\n",
        "y_true = np.asarray([np.argmax(i) for i in y_test])\n",
        "temp = (y_pred-y_true)\n",
        "print(np.asarray(temp).tolist())\n",
        "model_json = model.to_json()\n",
        "with open(\"model.json\",\"w\") as json_file:\n",
        "     json_file.write(model_json)\n",
        "np.savetxt(\"Y-pred.csv\",y_pred,delimiter= ',')\n",
        "np.savetxt(\"Y-true.csv\",y_true,delimiter= ',')\n",
        "\n",
        "model.save('final_weights.h5')"
      ],
      "execution_count": 0,
      "outputs": [
        {
          "output_type": "stream",
          "text": [
            "[6, -1, -4, 0, 2, 0, 0, 0, 0, 0, -2, 0, 2, 0, 4, 0, -2, 0, 0, -2, 0, -2, 0, 0, 0, -2, 0, 0, 0, 1, 0, -2, 0, 2, 0, 0, -3, 6, 2, 0, -2, 2, 0, 0, -2, 0, 0, 0, 3, 0, 0, 0, 0, -2, 0, 1, 0, 0, 0, 2, 0, 1, 0, 3, 3, 0, 0, 0, 0, 4, 2, -5, -1, 0, 0, 6, 0, 2, 0, 0, 0, 1, 0, -2, 3, 0, 0, 0, 0, 0, 0, 3, -4, 0, 0, 0, 2, 0, -4, -4, 0, 0, 0, 0, 0, 2, -3, 0, 0, 0, 0, 0, 0, 0, 0, 1, 0, 1, 0, 0, 0, 0, 0, 2, 0, 0, 0, 0, 0, 0, -2, 0, 2, 6, 0, 6, 0, 0, 0, 0, 2, 0, 0, 0, 4, 0, -2, 0, 2, -2, 0, 0, 0, -3, -6, 0, 5, 4, 0, 0, 0, -3, 0, -2, -2, 4, 4, 5, -3, 0, 0, 0, 0, 0, 2, 0, -2, 2, -1, -2, 0, 0, 0, 2, 4, 0, 0, -2, 0, 4, 0, 3, 0, 0, 0, 3, 0, 4, 0, 0, 4, 0, 2, -2, 0, -6, 1, 3, 4, 2, 0, 0, 0, 4, 0, -3, -2, 3, 0, 0, 2, 2, 0, 0, 0, 3, 0, 0, 0, 0, 0, -2, 0, 0, 2, 2, 0, 0, 0, -6, 0, -4, 0, 3, 0, 1, 0, -4, -1, 0, -2, 6, 6, 2, 0, 0, 0, 0, 0, 0, 3, 0, 0, 0, 0, -2, 0, 0, 4, -2, 0, 0, 2, 0, 0, 1, 0, 6, 0, 0, 0, 0, -4, 0, 2, 0, 0, -2, -2, 0, 0, 0, 0, 2, -4, 0, 0, 0, 0, 0, -3, 0, 0, 0, 2, 4, 0, -2, -2, 0, 0, -2, 0, 0, -4, 0, 0, 0, 0, 2, 0, 4, 0, 3, 6, -2, 3, 0, 0, 0, 3, 0, 0, -2, 0, -1, 0, 2, -3, 0, 0, -2, -1, 1, 2, 0, 0, -2, 0, 0, 0, 3, 0, 6, 0, 0, 0, -1, 2, 0, 1, 0, -2, 0, 3, 0, 4, 0, 0, 0, -4, 0, 0, -6, -2, 0, 1, -5, 0, 3, 0, -1, -3, 1, 4, 0, -3, 0, 0, 3, 4, 3, 0, 0, 2, 2, 0, -1, 3, -6, 2, 0, 0, 0, 0, 2, 0, -2, 2, 0, -1, 4, 0, -4, 0, 0, 0, 0, 0, 3, 0, 2, 4, 0, -3, 0, 0, 0, -3, -1, 0, 0, -2, 0, 0, 0, 0, -6, 0, 0, 2, -2, 0, 0, 0, 3, 0, 0, 1, 0, -2, 0, 0, 0, -2, -3, 0, 0, 0, 1, 0, 0, 0, -2, 0, 3, 0, 4, 2, 0, 0, 0, 0, 2, 2, 0, 0, 0, 0, 0, -2, 0, 0, 0, 0, 0, 2, 2, 0, 0, -6, 0, -4, 0, 0, 0, 0, 0, 0, 0, 0, 0, 0, 0, 0, 0, 3, 0, 0, 3, 0, 1, 0, -2, -4, 2, 0, 0, 0, 0, 0, 3, 2, 3, 0, 0, 0, 2, 0, 0, 0, 2, 0, 0, 0, 2, 1, 0, 0, 0, 0, -2, 0, 4, 0, 0, -1, 0, 0, 0, 0, 3, 2, 0, 1, 0, -2, -6, -2, -3, 0, -1, 1, 0, 3, -2, 0, 0, -3, -1, 0, 0, 0, 0, 6, 0, -2, 0, -2, 2, 0, 0, 0, 4, 0, 0, 0, 0, 0, 0, 0, -2, 0, 1, 0, -4, -2, -2, 0, 0, 0, 0, 0, 0, 0, 2, 0, -2, 0, 0, 0, -2, 0, -4, 0, 0, -2, 6, 4, 0, 0, 3, 2, 2, -5, 2, 0, 0, 0, -4, 0, 2, 1, -2, 0, 0, 2, 0, 0, 2, 6, -2, 3, 4, 0, 0, -3, 4, 2, -4, 0, -2, 0, -2, 0, 0, 4, 0, -1, 0, 0, 0, 0, 2, 0, 1, 2, -2, 0, -3, 0, 0, -6, 1, -2, 0, 0, 0, 0, 0, 0, 0, -1, 0, 0, 0, -2, 0, -2, 0, 0, 0, -2, 0, 0, 0, 0, 0, -2, 0, 0, 0, 0, 0, 2, 0, 0, -6, 0, -2, 0, 0, 0, 0, 0, -3, 4, 0, 3, 0, 0, -2, 0, 0, 0, -3, 0, 0, 2, 0, 2, 0, 0, 0, -3, 0, 0, -2, 0, -4, 0, -3, 0, -3, 0, 0, 0, 3, 0, 4, 0, 0, 0, 2, 0, 0, 0, 0, 0, -3, 0, 2, 0, -2, 4, 4, 0, 0, 1, 0, 0, -2, 0, 3, 0, 0, 0, 0, 0, 2, 0, 0, -2, 0, 2, 3, -1, 0, -1, 0, 4, 0, 0, 0, 0, 1, 0, 0, -6, 0, 2, 0, 0, 0, 0, 0, 0, 0, 0, 3, 0, 0, 0, 2, 2, -2, 0, -2, 0, -2, -1, -3, 2, 0, 0, 1, -2, 0, 0, 0, 0, 0, -4, 0, 0, 0, 3, 0, 2, 6, 0, -2, 0, 2, 0, 0, 0, 0, 0, 0, 6, 2, 0, 0, 0, 0, -2, -2, 1, -4, 0, 0, 2, 0, 2, -6, 0, 1, 0, 0, 0, 0, 0, -3, 0, -1, 0, 0, 0, 0, -2, 2, 0, 0, 0, 0, 3, 2, -2, 6, 0, 0, 0, 2, 3, -4, 0, 0, 0, 0, 0, 0, 0, 2, 0, 0, 3, 0, 6, 0, -2, -1, 0, 0, 0, 2, 2, 0, 0, 2, 2, -2, 0, 0, -2, 3, 0, 0, 0, 2, 0, 0, 0, 1, 0, -2, 0, 0, -2, 0, 0, 0, -3, 0, 0, -1, -2, 0, 0, 2, -5, 1, -1, -3, 0, 0, 0, 0, 0, -1, 1, 3, 0, 0, 0, 0, 2, 0, 3, 0, -3, 2, 0, 0, -3, 0, 0, 0, -2, 0, 0, 6, 0, 4, 2, 0, -1, 0, 0, 0, 0, 0, 0, -2, -2, 0, 2, -2, 1, 1, 0, 0, 0, 0, -4, -2, 2, -6, -2, 0, 0, 2, 0, -2, 0, -3, 0, 2, 0, 0, 0, 0, 0, 0, 0, 0, 0, 3, 2, 0, 0, 0, 2, 0, 0, 0, 0, -2, 0, -2, 0, 0, 0, 4, 0, 0, 0, 0, -2, -3, 0, 0, 2, 4, 0, 3, -4, 0, 0, 0, -2, 0, 0, 2, 2, 0, 0, 0, 0, 0, 0, 0, 0, 2, 0, 0, 0, 0, -5, 0, 0, 4, 0, 0, 0, -1, 0, 0, 0, 0, -2, 3, 4, 0, 0, 0, -2, 0, -2, 0, 2, -2, 0, 0, 2, 0, 0, -1, 0, 0, 2, 0, -2, 0, 0, 0, -1, 0, 0, 3, 0, 3, 0, 2, 0, 0, -2, 4, 4, -3, 0, 0, -3, 0, 0, 0, 2, -6, -3, 0, 0, 0, 0, 0, 0, -4, 4, 0, 2, 4, 0, -2, 4, 0, 0, 0, 2, 1, 1, 0, -3, 6, 0, 0, -6, 0, 0, 4, 0, 0, 0, 1, 1, 0, 0, 3, 0, -4, 0, 2, 0, 0, 0, 2, -2, -3, -5, 0, 0, 0, 0, 0, 4, 0, 0, 0, 0, 0, 0, 0, 2, 0, 0, -3, 1, 0, 0, -4, -2, 1, 0, 0, 2, -2, 0, 3, 0, 0, 0, 0, 0, -1, -3, 0, 0, 0, 0, 0, 0, 0, 0, 0, 0, 0, 0, 0, 4, -2, -3, -6, -1, -2, 0, 0, 0, 1, -3, 0, 0, 2, 2, 0, -5, 0, 0, 0, 2, 2, 0, 2, 2, 4, 6, 0, 0, 0, 0, -3, 0, 3, 0, 3, 0, 0, -2, 0, 0, 0, 0, -4, -4, 0, 6, -3, 0, -2, -2, 4, 0, 0, 0, 2, -2, -4, 4, -1, -1, 0, 0, 0, 2, 0, -2, 0, 0, 0, 4, 0, -4, 2, 0, -2, 0, 0, -2, -2, 2, -1, 0, 2, 2, -3, 0, 0, 0, -2, 0, 0, 0, 0, 0, 3, 0, 0, 0, 0, 0, 0, -1, 0, 0, 0, 0, 0, 0, 0, 0, 2, 0, -5, -3, -2, -5, 0, 0, 0, 0, 2, 3, 0, 0, 0, 0, -1, 0, 0, 4, 0, 4, 0, -2, 0, 0, -4, 4, 0, 4, 0, 0, -5, 0, 0, 0, 0, 0, 0, 2, 0, 0, 0, 0, 0, 0, 2, 1, 0, 0, 0, -1, 0, 4, 0, 0, -2, -2, 0, 0, 4, 0, 2, 0, 4, 0, 0, 0, 6, 0, 0, -2, 2, 2, 0, 0, 0, 2, 0, 0, 2, 0, 0, 2, 0, 2, 0, 0, 0, 0, 0, -1, 0, 0, 0, 0, 1, 0, 0, 0, 0, 0, 2, 2, -2, 1, 0, -1, 0, 0, 0, -2, 0, 0, 0, 0, 0, 1, 0, -1, -4, 0, 0, -6, 0, -3, -4, 0, 2, 0, -2, -2, 0, 0, 0, 0, 0, -2, 2, -1, -3, 2, 4, 2, 0, -2, 0, 0, 0, 0, 0, 0, 0, 0, 1, 1, 0, 0, 6, 3, 3, -2, 3, 0, 0, 0, -4, 3, -3, 0, 0, 0, 0, 0, 0, 0, 0, -1, 2, 2, 0, 0, 6, -1, 0, 2, 2, 0, 0, -2, 2, 0, 0, 0, 0, 0, 0, 0, 0, 0, 0, 0, 0, 0, 0, 2, 0, 0, 0, 0, 2, 0, 0, 0, -3, -2, -3, 0, -2, 0, 0, 0, 0, 0, -2, 0, 0, 0, 0, 0, -1, 0, 0, 0, 0, 0, 0, 0, 0, -2, 0, 0, 2, 0, 0, 0, -3, 0, 2, -2, 0, -6, 0, 3, 4, 0, 0, -4, 0, -2, 0, 0, -3, 0, 4, 0, 0, -3, 2, 0, 0, 2, 0, -2, 0, 0, 2, 0, 0, 0, 0, 0, 3, 0, 0, -6, 0, 0, 0, 4, 1, 0, 0, 0, 2, 0, 1, 0, 0, 0, 0, 0, 1, 0, 0, -1, 0, 0, 0, 0, -2, 0, 0, 2, 0, 0, -2, 0, 0, -2, -6, -1, 5, 0, 2, -1, -2, 1, 0, 0, 2, 0, 0, 0, 3, 0, 0, 6, 0, 0, 2, 0, 4, 0, 0, -3, 1, 0, -3, 0, 0, 0, 0, 0, -3, 4, 0, 4, 2, -5, 3, 0, 0, 0, 0, 0, 2, -2, 0, 0, -1, 0, 0, -2, -1, 2, 0, -1, -4, 0, 0, 2, 0, 0, 0, 0, 4, 0, 0, 0, 0, 0, 0, 0, 0, 4, 0, 0, 0, 0, 0, 0, -6, 0, 0, 0, 0, -1, 0, -3, -2, 4, 0, -6, -2, 0, -2, -4, 0, 0, 0, 0, 0, 0, 0, -4, 4, 0, -1, 2, 2, 0, 0, 0, 3, 2, -2, 0, 1, 0, 0, 6, 0, -1, -4, 0, 0, 0, 0, 0, 0, 0, 2, 0, 0, 4, 0, 0, -2, 0, 0, 4, 0, 0, 0, -2, 0, 0, -3, 0, 0, 0, 4, 0, 0, 2, 0, 2, 0, -2, 0, -1, 0, -1, 0, -2, -2, -2, 0, 0, 0, 0, -4, 0, 2, 0, 0, 0, -2, -3, 0, 0, 0, 0, 0, 0, 0, 0, 2, 0, 0, 0, 0, 0, 0, -3, 0, 0, 0, 2, 0, 0, -1, 0, 0, 0, -2, 0, 0, 3, 0, 0, 0, 0, -1, 3, -2, -5, -2, 0, 0, 0, 0, 3, 0, 0, 0, 0, 0, 0, 0, 3, 0, 0, 0, 2, -2, 0, 0, 0, 2, 1, -1, 6, 0, 0, 0, 0, 3, -3, 0, 0, -2, 0, 0, 0, -4, 0, 0, 0, 6, 0, 0, -2, -3, -4, 0, 0, 0, 0, 0, -2, 0, 0, -1, 0, 2, 0, 0, 0, 0, 0, -2, 3, -2, 0, 0, -3, 2, -4, 0, 1, 0, -1, 2, 0, -6, 0, -2, 0, 3, 0, -2, 0, -3, 0, 0, 0, 0, 0, 0, 4, 4, -3, 0, 0, 0, 0, 4, 2, 0, 0, 0, -3, 4, 2, 3, -4, 0, 0, 0, -2, 0, 0, -2, 0, 0, 0, 0, -3, 0, 0, 0, 0, -2, 0, 0, 2, 0, 0, 0, 0, 0, 4, 0, 2, 0, -2, 0, 0, 0, 0, -2, 0, 0, 0, 0, 0, 0, -2, 0, 0, 0, -2, 2, 0, 0, 0, 0, 0, 2, -3, 0, -2, 0, 4, 0, 4, 0, 0, 0, -2, 0, -2, 3, 1, 0, 0, 4, 4, 0, 1, 0, 0, 0, 0, 2, -2, 0, 0, 0, 4, 0, 0, 2, 0, 6, 2, 0, 2, 0, 0, 2, 0, 0, 0, 0, 0, -5, 0, 0, 0, 0, 6, 0, 0, 0, 0, 0, 0, 0, 0, -3, 0, 0, 0, 0, 0, 0, 0, 2, -2, 0, 0, 0, 0, 0, 0, -1, -2, 0, 0, -4, 0, 0, 0, 0, -1, -6, 0, 0, 0, 0, -4, -3, 0, 1, -2, 0, -4, 0, 2, -3, 4, -2, 0, 0, 2, 0, 2, 0, 0, 0, 0, 0, 0, 0, 0, 0, 0, -2, 0, 0, 0, 0, 0, -1, 0, 0, 0, 0, 2, -4, 2, 0, 2, 0, -4, 0, 0, 0, 0, 0, -6, 0, 0, -2, 2, -2, -2, -2, -3, 0, 0, 0, 0, 1, 0, 0, -2, -1, 0, 4, 4, 1, 0, 0, 0, 0, 0, 2, 4, -2, -2, -1, 0, -3, -2, 0, 1, 0, 0, 0, 0, 0, 0, 0, -3, 2, 0, 0, -3, 0, -2, 0, 2, 0, 2, 6, 0, 4, 0, 0, -2, 0, 0, 1, 0, 0, 0, -2, 0, 0, 0, 0, -4, 0, 0, 0, 0, 0, 0, 0, 0, -3, 0, 0, 0, 0, 0, -2, -4, 0, -4, 0, 0, 0, 0, 0, 0, -3, -2, 0, 0, 0, 0, 0, 0, 1, 2, -2, 4, -4, -2, 0, 0, 0, 0, 0, 1, 0, 0, 0, 0, 0, 2, -3, 0, 2, -3, -2, 0, 0, 2, 0, 0, 3, -1, 0, 0, 1, 0, 0, 0, -4, 0, 1, 0, -4, 1, 3, 0, 3, -1, 2, 0, 3, 0, -4, 0, 0, 0, 0, 0, 3, 0, 0, 1, 0, 0, 0, 0, 0, 0, 0, 2, 0, 0, 0, 0, 0, 0, 2, 0, 0, -2, -2, -4, -4, 0, 0, 0, 0, 2, 0, 0, 0, 0, 0, 0, 0, 0, 0, 0, 0, 0, 0, 3, 0, -4, 0, 0, -2, 0, 4, -2, 0, 0, -2, 0, 0, 0, 2, 0, -2, -3, 0, 0, -2, 0, -2, 0, 0, 4, 0, 0, 3, -1, 3, 0, -3, 0, 0, 6, 0, 2, 6, 1, 0, 0, -2, 0, 0, 0, 0, 0, 0, 0, 0, -4, 4, 0, 0, 0, 0, 0, -2, 0, 0, 0, 3, 1, 0, 0, 0, 0, 0, 2, 0, -6, 0, 2, 3, 0, 0, -1, 0, 0, -3, 0, 4, 0, 0, 0, 2, -1, 0, 2, 0, 0, -5, 0, -3, -2, 0, 0, 0, 0, -1, 0, 4, 3, 0, -2, -1, -3, -6, -2, 0, 0, 0, 0, 0, 0, 0, -2, 0, 0, 0, -4, -3, 0, -3, -2, 0, 0, 0, 0, -2, 0, 0, 1, 2, 0, 0, 0, -6, 0, 0, 0, 2, 0, 4, 0, 0, 0, 0, 0, 5, 0, 0, 6, 0, 1, 0, -2, 0, 4, 3, -2, 0, -2, 0, 4, 0, 0, 0, 0, 0, 0, 4, 0, 0, 0, 3, 0, 0, 0, 2, 0, 0, 2, -2, 3, 2, 0, 3, 0, 0, 0, 0, -6, 6, 0, 6, 0, 0, 3, 0, 1, 0, 0, 4, 0, 0, 0, 3, 6, 0, 0, -2, 0, 1, 3, 0, 0, -2, 0, 0, 0, 0, 0, 0, 0, 0, -6, 0, 0, 0, 0, 0, 0, 2, 0, 1, 0, 0, -2, 0, 1, 0, 3, -2, 0, 0, 0, -3, 0, 6, 0, -2, 0, -1, -1, 0, 1, 0, 0, 2, -3, 0, 0, 0, -1, 0, 5, 0, -2, -4, 0, 0, 2, 0, 1, 0, 2, -1, 4, -3, 4, 0, 2, 0, -1, 0, 0, -4, 0, 0, -3, 0, 0, 0, 0, 6, 0, -2, 0, 0, -2, -3, 1, 3, 0, 0, 0, -1, 0, 0, 0, 0, 2, 0, 0, 0, 4, 2, 0, 0, -6, 0, 0, 0, -2, 0, 0, 2, 0, 0, 0, 0, 1, 0, 0, 0, 1, 0, 2, 0, -2, 0, 0, 4, 0, 0, 0, 4, 0, 0, 0, -4, -2, 0, 0, 0, 3, 4, 2, -4, 0, -4, 0, 0, 0, 0, 0, 0, 0, -3, 0, 0, 0, 0, 0, 0, 0, 0, 2, 0, 0, 0, 0, -2, 2, -3, 0, 3, 0, 0, 1, 4, -3, 0, 6, 0, 0, -2, 0, 0, 0, -3, 0, -2, 0, 0, -6, 3, -2, 0, -2, 0, 4, 0, 0, -6, 0, 0, 0, 0, -2, 0, 0, 0, 0, 1, 0, -5, 0, 6, 0, 4, 0, 0, 4, 0, 0, 0, 2, 0, -2, 0, 0, 2, 0, 0, 1, 0, 0, 0, 0, 0, 0, 0, 0, 0, 0, 0, 0, 0, -3, 0, 1, 2, 0, 0, -1, 6, 4, 0, 0, 0, 0, 0, 0, 3, 0, 0, 0, 0, 0, 0, -2, 0, 0, 0, 3, 0, 0, -2, -2, 2, 0, 4, -3, 0, 0, 0, 0, 0, 0, 0, -2, 0, 0, 0, 0, -3, 0, 0, 0, 1, 0, -2, 0, 0, 0, 0, -3, 0, 0, 0, -2, -6, -1, 0, 0, 0, 0, -2, 0, 0, 3, 0, -2, -2, 0, 0, -6, -4, 6, 0, 0, 0, 0, 0, 0, -2, 0, -2, 3, -2, 0, -2, 0, 0, 2, 0, -3, 0, 0, -6, 0, 2, 0, 0, 0, 2, 0, -2, 0, 0, 2, 0, 4, 4, 0, 0, -4, 0, 3, 1, 0, 2, 0, 4, 0, 3, 0, 0, 0, 0, -2, 0, 0, 0, 6, 0, -4, 0, 0, 0, 3, 2, 0, 0, 0, 0, -2, 0, 0, 0, 0, 4, 0, 6, 0, -4, -1, 0, 0, 2, 0, 4, -2, 4, -1, 0, 2, -2, 0, 2, 0, -4, -4, 0, 0, -2, 0, 0, 0, -1, -2, 0, 2, 0, 0, 1, 0, 0, 0, -2, 0, 0, 0, 0, -3, 0, 0, 0, 0, -3, -3, 0, 0, 2, -3, 0, 2, 2, 0, 2, 2, 0, 0, 0, 0, 0, 0, 0, 2, -2, -1, 0, 0, 0, 2, 0, 0, 0, 0, 0, 0, 0, 0, 0, 0, 0, 0, 0, 4, 0, 0, -4, 2, 1, 0, -6, -2, 0, 0, 4, -1, 0, 0, -1, 2, 0, 0, 2, 0, -2, 0, 0, 0, 0, 0, 0, 0, 4, 0, 0, 0, 2, -2, -2, 0, 0, 1, -1, 2, 0, 0, 0, 0, 0, 0, -2, 0, 0, -2, 0, 0, 4, 0, 0, 0, -2, -1, 0, 1, 0, 0, -2, -3, 1, 2, 0, 2, 2, -2, 0, 0, -2, 0, -2, 0, 0, 0, -3, 1, -2, -6, 0, 0, 4, 2, 0, 2, 0, 0, 4, 2, -2, 4, 0, 0, 2, 1, -2, -3, 0, -4, 0, 0, 0, -4, 0, 0, 0, 0, 0, -3, 0, 0, 2, 0, 0, 0, 0, 0, 0, 0, 0, 0, 3, 3, 0, 0, 2, 0, 3, 2, -4, -2, 0, 0, 0, -6, 0, 0, 0, 0, -2, -2, -4, -3, 0, 0, -2, 6, 0, 0, 0, 4, 0, 0, 0, -1, 6, 0, 0, 0, 4, 2, 0, 0, 0, -3, 0, 0, 4, 3, -2, 0, 2, 0, 2, 3, 0, 0, 2, 0, -4, 0, 0, 0, 2, 0, 4, 0, 0, 0, 0, 0, 0, 0, 2, 0, 0, 0, -2, 0, 0, 0, 0, 0, 0, 0, 0, 0, 2, -4, 0, 0, -2, -4, 0, -2, 0, 0, -2, 0, -1, 0, 0, 2, 0, 0, 0, 0, 0, -1, 0, -2, 0, 0, 0, -1, -2, 0, 0, 0, -6, -3, 2, 0, 4, 0, 2, -2, 0, 0, 3, 0, -2, 4, 0, 0, 0, 2, -4, 4, -2, -1, 1, -2, -4, 0, 4, 0, 0, 0, 0, 0, 6, 0, 0, 0, 0, -6, 0, -1, 0, -1, 0, 2, 0, 4, 0, 0, 0, -2, -2, 0, -2, 0, 0, 0, -2, 2, 0, 0, 0, 0, 0, 0, 0, 1, 4, 0, 0, 0, 0, -2, -2, 2, 4, 1, 0, 0, 0, 6, 0, -4, 0, -2, -3, 0, 4, 0, 2, 0, 0, -6, -2, 2, 4, 0, 0, 0, -2, -2, -1, 0, 0, 4, 0, 0, 4, 0, 0, 2, -6, 0, 0, 0, 2, 2, 4, -3, 0, 0, 0, 0, 0, 4, -2, 0, -2, 0, 0, -1, 0, 0, 0, 0, 0, -3, -2, 0, -1, 0, 2, 0, 0, 2, 0, 0, 4, 0, 0, 0, 3, 0, -2, 0, 0, 0, 0, 0, 0, -3, -2, -5, 0, 2, 0, 0, 0, 0, 0, 0, 0, 0, 6, 4, 0, 2, 0, 0, -1, 0, 0, -3, 0, 0, 6, 4, 0, -3, 0, 0, 0, 0, 0, -5, -5, 2, -3, -1, -2, -1, 0, -2, 0, 0, 1, 1, 0, 0, 0, 3, -1, 0, 0, 0, 2, 0, 0, 0, 0, 0, 0, -4, -4, 0, -6, 2, -3, 0, 0, 0, 0, -2, 0, -2, -2, 1, 0, 0, 0, -3, -2, 3, 2, 3, 4, 0, 0, 0, 3, 2]\n"
          ],
          "name": "stdout"
        }
      ]
    },
    {
      "cell_type": "markdown",
      "metadata": {
        "id": "C5oGuJufIrBb",
        "colab_type": "text"
      },
      "source": [
        "#load model"
      ]
    },
    {
      "cell_type": "code",
      "metadata": {
        "id": "VjkRMUVMQbxD",
        "colab_type": "code",
        "colab": {}
      },
      "source": [
        "from keras.models import load_model\n",
        "filepath = \"final_weights.h5\"\n",
        "mod = load_model(\n",
        "    filepath,\n",
        "    custom_objects=None,\n",
        "    compile=True\n",
        ")"
      ],
      "execution_count": 0,
      "outputs": []
    },
    {
      "cell_type": "code",
      "metadata": {
        "id": "jaUB1cH-y12m",
        "colab_type": "code",
        "outputId": "4ed4c1ad-6ae0-4a8a-80bd-7216774dadba",
        "colab": {
          "base_uri": "https://localhost:8080/",
          "height": 1000
        }
      },
      "source": [
        "mod.summary()"
      ],
      "execution_count": 0,
      "outputs": [
        {
          "output_type": "stream",
          "text": [
            "Model: \"sequential_1\"\n",
            "_________________________________________________________________\n",
            "Layer (type)                 Output Shape              Param #   \n",
            "=================================================================\n",
            "conv2d_1 (Conv2D)            (None, 48, 48, 64)        640       \n",
            "_________________________________________________________________\n",
            "batch_normalization_1 (Batch (None, 48, 48, 64)        256       \n",
            "_________________________________________________________________\n",
            "max_pooling2d_1 (MaxPooling2 (None, 24, 24, 64)        0         \n",
            "_________________________________________________________________\n",
            "dropout_1 (Dropout)          (None, 24, 24, 64)        0         \n",
            "_________________________________________________________________\n",
            "conv2d_2 (Conv2D)            (None, 24, 24, 128)       73856     \n",
            "_________________________________________________________________\n",
            "batch_normalization_2 (Batch (None, 24, 24, 128)       512       \n",
            "_________________________________________________________________\n",
            "max_pooling2d_2 (MaxPooling2 (None, 12, 12, 128)       0         \n",
            "_________________________________________________________________\n",
            "dropout_2 (Dropout)          (None, 12, 12, 128)       0         \n",
            "_________________________________________________________________\n",
            "conv2d_3 (Conv2D)            (None, 12, 12, 128)       147584    \n",
            "_________________________________________________________________\n",
            "batch_normalization_3 (Batch (None, 12, 12, 128)       512       \n",
            "_________________________________________________________________\n",
            "max_pooling2d_3 (MaxPooling2 (None, 6, 6, 128)         0         \n",
            "_________________________________________________________________\n",
            "dropout_3 (Dropout)          (None, 6, 6, 128)         0         \n",
            "_________________________________________________________________\n",
            "conv2d_4 (Conv2D)            (None, 6, 6, 256)         295168    \n",
            "_________________________________________________________________\n",
            "batch_normalization_4 (Batch (None, 6, 6, 256)         1024      \n",
            "_________________________________________________________________\n",
            "max_pooling2d_4 (MaxPooling2 (None, 3, 3, 256)         0         \n",
            "_________________________________________________________________\n",
            "dropout_4 (Dropout)          (None, 3, 3, 256)         0         \n",
            "_________________________________________________________________\n",
            "conv2d_5 (Conv2D)            (None, 3, 3, 256)         590080    \n",
            "_________________________________________________________________\n",
            "batch_normalization_5 (Batch (None, 3, 3, 256)         1024      \n",
            "_________________________________________________________________\n",
            "max_pooling2d_5 (MaxPooling2 (None, 2, 2, 256)         0         \n",
            "_________________________________________________________________\n",
            "dropout_5 (Dropout)          (None, 2, 2, 256)         0         \n",
            "_________________________________________________________________\n",
            "conv2d_6 (Conv2D)            (None, 2, 2, 512)         1180160   \n",
            "_________________________________________________________________\n",
            "conv2d_7 (Conv2D)            (None, 2, 2, 512)         786944    \n",
            "_________________________________________________________________\n",
            "batch_normalization_6 (Batch (None, 2, 2, 512)         2048      \n",
            "_________________________________________________________________\n",
            "max_pooling2d_6 (MaxPooling2 (None, 1, 1, 512)         0         \n",
            "_________________________________________________________________\n",
            "dropout_6 (Dropout)          (None, 1, 1, 512)         0         \n",
            "_________________________________________________________________\n",
            "conv2d_8 (Conv2D)            (None, 1, 1, 512)         2359808   \n",
            "_________________________________________________________________\n",
            "conv2d_9 (Conv2D)            (None, 1, 1, 512)         786944    \n",
            "_________________________________________________________________\n",
            "batch_normalization_7 (Batch (None, 1, 1, 512)         2048      \n",
            "_________________________________________________________________\n",
            "max_pooling2d_7 (MaxPooling2 (None, 1, 1, 512)         0         \n",
            "_________________________________________________________________\n",
            "dropout_7 (Dropout)          (None, 1, 1, 512)         0         \n",
            "_________________________________________________________________\n",
            "flatten_1 (Flatten)          (None, 512)               0         \n",
            "_________________________________________________________________\n",
            "dense_1 (Dense)              (None, 7)                 3591      \n",
            "_________________________________________________________________\n",
            "activation_1 (Activation)    (None, 7)                 0         \n",
            "=================================================================\n",
            "Total params: 6,232,199\n",
            "Trainable params: 6,228,487\n",
            "Non-trainable params: 3,712\n",
            "_________________________________________________________________\n"
          ],
          "name": "stdout"
        }
      ]
    }
  ]
}